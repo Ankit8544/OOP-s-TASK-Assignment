{
 "cells": [
  {
   "cell_type": "markdown",
   "id": "cf3dbdab-f2f1-4ae6-b2ef-ed965e8c33c3",
   "metadata": {},
   "source": [
    "Q.No-01    Create a vehicle class with an init method having instance variables as name_of_vehicle, max_speed\n",
    "and average_of_vehicle."
   ]
  },
  {
   "cell_type": "markdown",
   "id": "3bb66edc-3961-493f-ab78-e671d0c572c6",
   "metadata": {},
   "source": [
    "Ans:"
   ]
  },
  {
   "cell_type": "code",
   "execution_count": 2,
   "id": "a967d22a-66a4-4f3e-b46e-563ffac31780",
   "metadata": {},
   "outputs": [],
   "source": [
    "class Vehicle :\n",
    "    def __init__(self, Name_of_vehicle, Max_speed, Average_of_vehicle):\n",
    "        self.Name_of_vehicle = Name_of_vehicle\n",
    "        self.Max_speed = Max_speed\n",
    "        self.Average_of_vehicle = Average_of_vehicle"
   ]
  },
  {
   "cell_type": "markdown",
   "id": "7e7983f2-5bd6-4ab6-9b31-3c6c8a7c99f0",
   "metadata": {},
   "source": [
    "For Examlpe:"
   ]
  },
  {
   "cell_type": "code",
   "execution_count": 3,
   "id": "8cda53ef-6877-4a41-a18a-20e45f9130a8",
   "metadata": {},
   "outputs": [],
   "source": [
    "car = Vehicle(\"Nano\", 200, 30)"
   ]
  },
  {
   "cell_type": "code",
   "execution_count": 4,
   "id": "d769167e-9331-451e-bd7a-015133a923c8",
   "metadata": {},
   "outputs": [
    {
     "data": {
      "text/plain": [
       "'Nano'"
      ]
     },
     "execution_count": 4,
     "metadata": {},
     "output_type": "execute_result"
    }
   ],
   "source": [
    "car.Name_of_vehicle"
   ]
  },
  {
   "cell_type": "code",
   "execution_count": 5,
   "id": "1030956a-719a-49af-b03a-a471f9524147",
   "metadata": {},
   "outputs": [
    {
     "data": {
      "text/plain": [
       "200"
      ]
     },
     "execution_count": 5,
     "metadata": {},
     "output_type": "execute_result"
    }
   ],
   "source": [
    "car.Max_speed"
   ]
  },
  {
   "cell_type": "code",
   "execution_count": 6,
   "id": "17bf80ac-24b8-4ec4-9d8f-448a9ae2dd67",
   "metadata": {},
   "outputs": [
    {
     "data": {
      "text/plain": [
       "30"
      ]
     },
     "execution_count": 6,
     "metadata": {},
     "output_type": "execute_result"
    }
   ],
   "source": [
    "car.Average_of_vehicle"
   ]
  },
  {
   "cell_type": "markdown",
   "id": "2fb7ea62-3c00-4923-8a7a-c311958623f4",
   "metadata": {},
   "source": [
    "###################################################################################################"
   ]
  },
  {
   "cell_type": "markdown",
   "id": "f763217b-e60a-415b-8810-b7876936786e",
   "metadata": {},
   "source": [
    "Q.No-02    Create a child class car from the vehicle class created in Que 1, which will inherit the vehicle class.\n",
    "Create a method named seating_capacity which takes capacity as an argument and returns the name of\n",
    "the vehicle and its seating capacity."
   ]
  },
  {
   "cell_type": "markdown",
   "id": "b8046b53-d464-478d-b80b-a37e020894aa",
   "metadata": {},
   "source": [
    "Ans:"
   ]
  },
  {
   "cell_type": "code",
   "execution_count": 7,
   "id": "cb868d97-fa5e-4d7f-b5e4-743cf480bbe9",
   "metadata": {},
   "outputs": [],
   "source": [
    "class Car(Vehicle):\n",
    "    \n",
    "    def seating_capacity(self, capacity):\n",
    "        return f\"The {self.Name_of_vehicle} has a seating capacity of {capacity}.\""
   ]
  },
  {
   "cell_type": "code",
   "execution_count": 8,
   "id": "4b07b022-ebcc-47a0-9059-0b8c53d9959f",
   "metadata": {},
   "outputs": [],
   "source": [
    "car2 = Car('Nano', 200, 30)"
   ]
  },
  {
   "cell_type": "code",
   "execution_count": 9,
   "id": "581ac81b-ca05-415c-8152-bb082c76e0cf",
   "metadata": {},
   "outputs": [
    {
     "data": {
      "text/plain": [
       "'The Nano has a seating capacity of 4.'"
      ]
     },
     "execution_count": 9,
     "metadata": {},
     "output_type": "execute_result"
    }
   ],
   "source": [
    "car2.seating_capacity(4)"
   ]
  },
  {
   "cell_type": "markdown",
   "id": "4907e3d6-f169-4546-8113-8c20e2d68638",
   "metadata": {},
   "source": [
    "###################################################################################################"
   ]
  },
  {
   "cell_type": "markdown",
   "id": "67fbffbe-1cdf-44b9-acda-e0a65fc065b2",
   "metadata": {},
   "source": [
    "Q.No-03    What is multiple inheritance? Write a python code to demonstrate multiple inheritance."
   ]
  },
  {
   "cell_type": "markdown",
   "id": "b4853786-bb0a-48d5-9cd4-e2bc50fb4d73",
   "metadata": {},
   "source": [
    "Ans:"
   ]
  },
  {
   "cell_type": "markdown",
   "id": "0440e28a-84ac-4159-b15f-9e138e92d497",
   "metadata": {},
   "source": [
    "Multiple inheritance is a feature in object-oriented programming where a class can inherit attributes and methods from multiple parent classes. In other words, a class can have more than one superclass."
   ]
  },
  {
   "cell_type": "code",
   "execution_count": 10,
   "id": "f3b25e79-b119-4c01-9371-40072b5ebdc1",
   "metadata": {},
   "outputs": [],
   "source": [
    "class Mother:\n",
    "    def __init__(self, mother_name):\n",
    "        self.mother_name = mother_name"
   ]
  },
  {
   "cell_type": "code",
   "execution_count": 11,
   "id": "bde5081a-3830-4f81-a8a7-47cca5946aaf",
   "metadata": {},
   "outputs": [],
   "source": [
    "class Father:\n",
    "    def __init__(self, father_name):\n",
    "        self.father_name = father_name"
   ]
  },
  {
   "cell_type": "code",
   "execution_count": 12,
   "id": "456c13d6-0ffa-4d26-9258-26caf70e50c2",
   "metadata": {},
   "outputs": [],
   "source": [
    "class PW_Skills:\n",
    "    def __init__(self , Mobile_Number , Email_Id):\n",
    "        self.Mobile_Number = Mobile_Number\n",
    "        self.Email_Id = Email_Id"
   ]
  },
  {
   "cell_type": "code",
   "execution_count": 13,
   "id": "66d15649-638f-4be5-8a49-25c66e87ca87",
   "metadata": {},
   "outputs": [],
   "source": [
    "class Child(Mother, Father, PW_Skills):\n",
    "    def __init__(self, child_name, mother_name, father_name, Mobile_Number , Email_Id):\n",
    "        Mother.__init__(self, mother_name)\n",
    "        Father.__init__(self, father_name)\n",
    "        PW_Skills.__init__(self , Mobile_Number, Email_Id)\n",
    "        self.child_name = child_name"
   ]
  },
  {
   "cell_type": "code",
   "execution_count": 14,
   "id": "adb25f74-5fce-4244-ba18-b93b0c4f0876",
   "metadata": {},
   "outputs": [],
   "source": [
    "PW_101 = Child('Ajay Singh','Sarita Devi','Ramesh Singh',9876543210,'ajay.7664@gmail.com')"
   ]
  },
  {
   "cell_type": "code",
   "execution_count": 15,
   "id": "5c3aac2e-2395-4110-b347-c87e54427b44",
   "metadata": {},
   "outputs": [
    {
     "name": "stdout",
     "output_type": "stream",
     "text": [
      "Child: Ajay Singh\n",
      "Mother: Sarita Devi\n",
      "Father: Ramesh Singh\n",
      "Mobile. No: 9876543210\n",
      "Email.I'd: ajay.7664@gmail.com\n"
     ]
    }
   ],
   "source": [
    "print(\"Child:\", PW_101.child_name)\n",
    "print(\"Mother:\", PW_101.mother_name)\n",
    "print(\"Father:\", PW_101.father_name)\n",
    "print(\"Mobile. No:\", PW_101.Mobile_Number)\n",
    "print(\"Email.I'd:\", PW_101.Email_Id)"
   ]
  },
  {
   "cell_type": "markdown",
   "id": "89d29866-a38d-4e16-a198-0f4e30fa983c",
   "metadata": {},
   "source": [
    "###################################################################################################"
   ]
  },
  {
   "cell_type": "markdown",
   "id": "ecb67cb3-8798-459f-ba31-9b91d29786dc",
   "metadata": {},
   "source": [
    "Q.No-04    What are getter and setter in python? Create a class and create a getter and a setter method in this\n",
    "class."
   ]
  },
  {
   "cell_type": "markdown",
   "id": "576fab83-8a13-41b7-80fc-af3aff6a386c",
   "metadata": {},
   "source": [
    "Ans:"
   ]
  },
  {
   "cell_type": "markdown",
   "id": "5b02a0fc-a1b5-47ac-a14c-8ffe4d5ac126",
   "metadata": {},
   "source": [
    "getters and setters are methods used to control the access and modification of class attributes. They are used to ensure data encapsulation and maintain the integrity of the object's state. Getters provide a way to retrieve the value of an attribute, while setters allow for the modification of an attribute while applying certain constraints or validation checks."
   ]
  },
  {
   "cell_type": "code",
   "execution_count": 16,
   "id": "27010f0d-2968-41ad-a81a-5ff700a9b3dd",
   "metadata": {},
   "outputs": [],
   "source": [
    "import random\n",
    "import string"
   ]
  },
  {
   "cell_type": "code",
   "execution_count": 55,
   "id": "807ac0a8-8562-4e11-83cf-3322fbff7574",
   "metadata": {},
   "outputs": [],
   "source": [
    "def Captcha(length):\n",
    "    characters = string.ascii_letters + string.digits\n",
    "    random_string = ''.join(random.choice(characters) for _ in range(length))\n",
    "    return random_string\n",
    "\n",
    "captcha = Captcha(6)"
   ]
  },
  {
   "cell_type": "code",
   "execution_count": 56,
   "id": "4dd6ee96-574b-4dcd-aa67-f5dc50899d57",
   "metadata": {},
   "outputs": [],
   "source": [
    "class FB_Login:\n",
    "    def __init__(self, Email_Id, Password):\n",
    "        self.Email_Id = Email_Id\n",
    "        self.__Password = Password\n",
    "\n",
    "    def Forgotten_Password(self):\n",
    "        print('Captcha :',captcha)\n",
    "        if captcha == input('Enter Captcha :'  ):\n",
    "            return self.__Password\n",
    "        else:\n",
    "            print(\"You can't access The Password \")\n",
    "\n",
    "    def Reset_Passwprd(self, Password):\n",
    "        print('Captcha :',captcha)\n",
    "        if captcha == input('Enter Captcha :'  ):\n",
    "            self.__Password = Password\n",
    "        else:\n",
    "            print(\"You can't Reset The Password \")\n",
    "            "
   ]
  },
  {
   "cell_type": "code",
   "execution_count": 57,
   "id": "fb447481-ba4f-4eb4-8a21-796d97be97e5",
   "metadata": {},
   "outputs": [],
   "source": [
    "Niraj_85 = FB_Login('baba123@gmail.com','LOve420@')"
   ]
  },
  {
   "cell_type": "code",
   "execution_count": 58,
   "id": "05487630-2241-4e2f-aa53-2d3d15cc5920",
   "metadata": {},
   "outputs": [
    {
     "name": "stdout",
     "output_type": "stream",
     "text": [
      "Captcha : Iv0sJ9\n"
     ]
    },
    {
     "name": "stdin",
     "output_type": "stream",
     "text": [
      "Enter Captcha : Iv0sJ9\n"
     ]
    },
    {
     "data": {
      "text/plain": [
       "'LOve420@'"
      ]
     },
     "execution_count": 58,
     "metadata": {},
     "output_type": "execute_result"
    }
   ],
   "source": [
    "Niraj_85.Forgotten_Password()"
   ]
  },
  {
   "cell_type": "code",
   "execution_count": 60,
   "id": "46c60dc9-0a35-431b-b3c8-8da3b0fd7ce3",
   "metadata": {},
   "outputs": [
    {
     "name": "stdout",
     "output_type": "stream",
     "text": [
      "Captcha : Iv0sJ9\n"
     ]
    },
    {
     "name": "stdin",
     "output_type": "stream",
     "text": [
      "Enter Captcha : bfcudy\n"
     ]
    },
    {
     "name": "stdout",
     "output_type": "stream",
     "text": [
      "You can't access The Password \n"
     ]
    }
   ],
   "source": [
    "Niraj_85.Forgotten_Password()"
   ]
  },
  {
   "cell_type": "code",
   "execution_count": 61,
   "id": "f16e0503-06d5-4528-a99a-25c68ca9897a",
   "metadata": {},
   "outputs": [
    {
     "name": "stdout",
     "output_type": "stream",
     "text": [
      "Captcha : Iv0sJ9\n"
     ]
    },
    {
     "name": "stdin",
     "output_type": "stream",
     "text": [
      "Enter Captcha : Ivudu\n"
     ]
    },
    {
     "name": "stdout",
     "output_type": "stream",
     "text": [
      "You can't Reset The Password \n"
     ]
    }
   ],
   "source": [
    "Niraj_85.Reset_Passwprd('Ankit0709')"
   ]
  },
  {
   "cell_type": "code",
   "execution_count": 64,
   "id": "745c8336-cb6f-4cb7-ba2b-b320dd7748d8",
   "metadata": {},
   "outputs": [
    {
     "name": "stdout",
     "output_type": "stream",
     "text": [
      "Captcha : Iv0sJ9\n"
     ]
    },
    {
     "name": "stdin",
     "output_type": "stream",
     "text": [
      "Enter Captcha : Iv0sJ9\n"
     ]
    },
    {
     "data": {
      "text/plain": [
       "'LOve420@'"
      ]
     },
     "execution_count": 64,
     "metadata": {},
     "output_type": "execute_result"
    }
   ],
   "source": [
    "Niraj_85.Forgotten_Password()"
   ]
  },
  {
   "cell_type": "code",
   "execution_count": 65,
   "id": "ae7530da-5ac2-46a9-861b-cd8be3ab7f71",
   "metadata": {},
   "outputs": [
    {
     "data": {
      "text/plain": [
       "'baba123@gmail.com'"
      ]
     },
     "execution_count": 65,
     "metadata": {},
     "output_type": "execute_result"
    }
   ],
   "source": [
    "Niraj_85.Email_Id"
   ]
  },
  {
   "cell_type": "markdown",
   "id": "9b0e2e07-66f4-40d1-89b0-1d7092ef3d8e",
   "metadata": {},
   "source": [
    "###################################################################################################"
   ]
  },
  {
   "cell_type": "markdown",
   "id": "8105610e-8209-4099-bb0b-b9e9b3328b87",
   "metadata": {},
   "source": [
    "Q.No-05    What is method overriding in python? Write a python code to demonstrate method overriding."
   ]
  },
  {
   "cell_type": "markdown",
   "id": "acf99fa7-ad24-4b9b-98cb-a42492d11855",
   "metadata": {},
   "source": [
    "Ans:"
   ]
  },
  {
   "cell_type": "markdown",
   "id": "59f6acb5-6489-425c-808c-96b6144986a9",
   "metadata": {},
   "source": [
    "Method overriding is a concept in object-oriented programming where a subclass provides its own implementation of a method that is already defined in its superclass. The method in the subclass has the same name, same parameters, and the same return type as the method in the superclass, but it provides a different implementation."
   ]
  },
  {
   "cell_type": "code",
   "execution_count": 4,
   "id": "439a24ef-047f-4445-b3d2-0a8a2e71267b",
   "metadata": {},
   "outputs": [],
   "source": [
    "class Circle:\n",
    "    def __init__(self, radius):\n",
    "        self.radius = radius\n",
    "\n",
    "    def Area_of_circle(self):\n",
    "        return 3.14 * self.radius ** 2\n",
    "\n",
    "\n",
    "class Square:\n",
    "    def __init__(self, side_length):\n",
    "        self.side_length = side_length\n",
    "\n",
    "    def Area_of_Square(self):\n",
    "        return self.side_length ** 2\n",
    "\n",
    "\n",
    "class Shape(Circle, Square):\n",
    "    def __init__(self, radius, side_length):\n",
    "        Circle.__init__(self,radius)\n",
    "        Square.__init__(self,side_length)"
   ]
  },
  {
   "cell_type": "code",
   "execution_count": 5,
   "id": "fd035b60-3a79-4002-b2e1-8802e87d7505",
   "metadata": {},
   "outputs": [],
   "source": [
    "My_shape = Shape(2,2)"
   ]
  },
  {
   "cell_type": "code",
   "execution_count": 6,
   "id": "9fa965cf-bd9e-4740-addb-4ea1cfc8a9e6",
   "metadata": {},
   "outputs": [
    {
     "data": {
      "text/plain": [
       "2"
      ]
     },
     "execution_count": 6,
     "metadata": {},
     "output_type": "execute_result"
    }
   ],
   "source": [
    "My_shape.radius"
   ]
  },
  {
   "cell_type": "code",
   "execution_count": 7,
   "id": "2a4b4561-7674-4e78-85e0-b32b4a69fbea",
   "metadata": {},
   "outputs": [
    {
     "data": {
      "text/plain": [
       "12.56"
      ]
     },
     "execution_count": 7,
     "metadata": {},
     "output_type": "execute_result"
    }
   ],
   "source": [
    "My_shape.Area_of_circle()"
   ]
  },
  {
   "cell_type": "code",
   "execution_count": 8,
   "id": "e62e61d5-1192-46df-aa9b-76c8bf011ae2",
   "metadata": {},
   "outputs": [
    {
     "data": {
      "text/plain": [
       "2"
      ]
     },
     "execution_count": 8,
     "metadata": {},
     "output_type": "execute_result"
    }
   ],
   "source": [
    "My_shape.side_length"
   ]
  },
  {
   "cell_type": "code",
   "execution_count": 9,
   "id": "f1c2bbb1-af0f-4ec0-ac45-6abea39feeb9",
   "metadata": {},
   "outputs": [
    {
     "data": {
      "text/plain": [
       "4"
      ]
     },
     "execution_count": 9,
     "metadata": {},
     "output_type": "execute_result"
    }
   ],
   "source": [
    "My_shape.Area_of_Square()"
   ]
  },
  {
   "cell_type": "code",
   "execution_count": null,
   "id": "98f69c29-480a-4748-bd02-1c7d3e75b823",
   "metadata": {},
   "outputs": [],
   "source": []
  }
 ],
 "metadata": {
  "kernelspec": {
   "display_name": "Python 3 (ipykernel)",
   "language": "python",
   "name": "python3"
  },
  "language_info": {
   "codemirror_mode": {
    "name": "ipython",
    "version": 3
   },
   "file_extension": ".py",
   "mimetype": "text/x-python",
   "name": "python",
   "nbconvert_exporter": "python",
   "pygments_lexer": "ipython3",
   "version": "3.10.8"
  }
 },
 "nbformat": 4,
 "nbformat_minor": 5
}
